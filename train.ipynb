{
 "cells": [
  {
   "cell_type": "code",
   "execution_count": 1,
   "id": "8d086b6a",
   "metadata": {},
   "outputs": [],
   "source": [
    "import torch\n",
    "import torch.nn as nn\n",
    "import torch.nn.functional as F\n",
    "from torch.optim import Adam, sgd\n",
    "from torch.utils.data import DataLoader, Dataset\n",
    "from torchvision import transforms\n",
    "import os\n",
    "from matplotlib import pyplot as plt\n",
    "import numpy as np\n",
    "import time\n",
    "import pandas as pd\n",
    "from collections import defaultdict\n",
    "device = 'cuda:0' if torch.cuda.is_available() else 'cpu'\n",
    "from PIL import Image\n",
    "\n",
    "class Encoder(nn.Module):\n",
    "    def __init__(self, embed_size):\n",
    "        super(Encoder, self).__init__()\n",
    "        self.cnn = nn.Sequential(\n",
    "            nn.Conv2d(in_channels = 3, out_channels= 32, kernel_size = 5),\n",
    "            nn.ReLU(),\n",
    "            nn.MaxPool2d(kernel_size = 2, stride = 2),\n",
    "\n",
    "            nn.Conv2d(in_channels = 32, out_channels= 64, kernel_size = 5),\n",
    "            nn.ReLU(),\n",
    "            nn.MaxPool2d(kernel_size = 2),\n",
    "\n",
    "            nn.Conv2d(in_channels = 64, out_channels= 128, kernel_size = 5),\n",
    "            nn.ReLU(),\n",
    "            nn.MaxPool2d(kernel_size = 2, stride = 2),\n",
    "\n",
    "            nn.Conv2d(in_channels = 128, out_channels= 256, kernel_size = 5),\n",
    "            nn.ReLU(),\n",
    "            nn.MaxPool2d(kernel_size = 2, stride = 2),\n",
    "\n",
    "            nn.Conv2d(in_channels = 256, out_channels= 512, kernel_size = 5),\n",
    "            nn.ReLU(),\n",
    "            nn.MaxPool2d(kernel_size = 2, stride = 2),\n",
    "            \n",
    "            nn.AvgPool2d(kernel_size = 3),\n",
    "        )\n",
    "        \n",
    "        self.linear = nn.Linear(512,512)\n",
    "\n",
    "    def forward(self, image):\n",
    "        # get the 3D feature map from image\n",
    "        feature_map = self.linear(self.cnn(image).view(image.size(0), -1))\n",
    "        return feature_map\n",
    "    \n",
    "class BahdanauAttention(nn.Module):\n",
    "    def __init__(self, hidden_size):\n",
    "        super(BahdanauAttention, self).__init__()\n",
    "        self.Wa = nn.Linear(hidden_size, hidden_size)\n",
    "        self.Ua = nn.Linear(hidden_size, hidden_size)\n",
    "        self.Va = nn.Linear(hidden_size, 1)\n",
    "\n",
    "    def forward(self, query, keys):\n",
    "        scores = self.Va(torch.tanh(self.Wa(query) + self.Ua(keys)))\n",
    "        scores = scores.squeeze(2).unsqueeze(1)\n",
    "\n",
    "        weights = F.softmax(scores, dim=-1)\n",
    "        context = torch.bmm(weights, keys)\n",
    "\n",
    "        return context, weights\n",
    "\n",
    "class AttnDecoderRNN(nn.Module):\n",
    "    def __init__(self, hidden_size, vocab_size, num_layers, vocabulary, max_seq_length=128):\n",
    "\n",
    "        super(AttnDecoderRNN, self).__init__()\n",
    "        self.embedding = nn.Embedding(vocab_size, hidden_size)\n",
    "        self.lstm = nn.LSTM(hidden_size * 3 , hidden_size, num_layers = num_layers, batch_first=True)\n",
    "        self.out = nn.Linear(hidden_size, vocab_size)\n",
    "        self.relu = nn.ReLU()\n",
    "        self.attention = BahdanauAttention(hidden_size)\n",
    "\n",
    "        self.max_seg_length = max_seq_length\n",
    "        self.hidden_size = hidden_size\n",
    "        self.vocab_size = vocab_size\n",
    "        self.vocab = dict(vocabulary)\n",
    "\n",
    "    def forward(self, encoder_outputs, target_tensor=None, teacher_forcing_prob = 0.5):\n",
    "        batch_size = encoder_outputs.size(0)\n",
    "        decoder_input = torch.empty(batch_size, 1, dtype=torch.long, device=device).fill_(self.vocab[\"<SOS>\"])\n",
    "        decoder_hidden = (encoder_outputs.view(1,encoder_outputs.shape[0],encoder_outputs.shape[1]),encoder_outputs.view(1,encoder_outputs.shape[0],encoder_outputs.shape[1]))\n",
    "        decoder_outputs = []\n",
    "        attentions = []\n",
    "\n",
    "        for i in range(self.max_seg_length):\n",
    "            decoder_output, decoder_hidden, attn_weights = self.forward_step(\n",
    "                decoder_input, decoder_hidden, encoder_outputs\n",
    "            )\n",
    "            decoder_outputs.append(decoder_output)\n",
    "            attentions.append(attn_weights)\n",
    "\n",
    "            if torch.rand(1).item() > teacher_forcing_prob :\n",
    "                # Teacher forcing: Feed the target as the next input\n",
    "                decoder_input = target_tensor[:, i].unsqueeze(1) # Teacher forcing\n",
    "            else:\n",
    "                # Without teacher forcing: use its own predictions as the next input\n",
    "                _, topi = decoder_output.topk(1)\n",
    "                decoder_input = topi.squeeze(-1).detach()  # detach from history as input\n",
    "\n",
    "        decoder_outputs = torch.cat(decoder_outputs, dim=1)\n",
    "        attentions = torch.cat(attentions, dim=1)\n",
    "\n",
    "        return decoder_outputs, decoder_hidden, attentions\n",
    "\n",
    "\n",
    "    def forward_step(self, input, hidden, encoder_repr):\n",
    "        embedded =  (self.embedding(input))\n",
    "        query = hidden[0].permute(1, 0, 2)\n",
    "        context, attn_weights = self.attention(query, encoder_repr.unsqueeze(1))\n",
    "        input_lstm = torch.cat((embedded, context), dim=-1)\n",
    "        input_lstm = torch.concat((encoder_repr.unsqueeze(1), input_lstm), dim=-1)\n",
    "\n",
    "        output, hidden = self.lstm(input_lstm, hidden)\n",
    "        output = self.out(output)\n",
    "\n",
    "        return output, hidden, attn_weights\n",
    "    \n",
    "    \n",
    "class LatexNet2(nn.Module):\n",
    "\n",
    "    def __init__(self,hidden_size, vocab_size, num_layers, vocabulary, max_seq_length=128):\n",
    "        #hidden_size == embed_size\n",
    "        super(LatexNet2, self).__init__()\n",
    "        self.encoder = Encoder(hidden_size)\n",
    "        self.decoder = AttnDecoderRNN(hidden_size, vocab_size, num_layers, vocabulary, max_seq_length)\n",
    "    \n",
    "    def forward(self, image, formula = None, teacher_forcing_prob = 0.5):\n",
    "        encoder_outputs = self.encoder(image)\n",
    "        decoder_outputs, decoder_hidden, _ = self.decoder(encoder_outputs, formula, teacher_forcing_prob)\n",
    "        return decoder_outputs, decoder_hidden, encoder_outputs\n",
    "    def predict(self,image):\n",
    "        encoder_outputs = self.encoder(image.to(device))\n",
    "        decoder_outputs, decoder_hidden, _ = self.decoder(encoder_outputs, teacher_forcing_prob = 0)\n",
    "        return decoder_outputs.argmax(-1), decoder_outputs\n",
    "        "
   ]
  },
  {
   "cell_type": "code",
   "execution_count": 52,
   "id": "2ad6f6ab",
   "metadata": {},
   "outputs": [],
   "source": [
    "def make_vocabulary(paths):\n",
    "    vocab = defaultdict(lambda : -1)\n",
    "    vocab[\"[PAD]\"] = 0\n",
    "    vocab[\"<SOS>\"] = 1\n",
    "    vocab[\"<EOS>\"] = 2\n",
    "    run_index = 3\n",
    "    for file in paths:\n",
    "        csv_file = pd.read_csv(file)\n",
    "        for formula in csv_file['formula'].values:\n",
    "            formula_split = formula.split()\n",
    "            for character in formula_split:\n",
    "                if character not in vocab:\n",
    "                    vocab[character] = run_index\n",
    "                    run_index += 1\n",
    "    return vocab"
   ]
  },
  {
   "cell_type": "code",
   "execution_count": 53,
   "id": "1fe10813",
   "metadata": {},
   "outputs": [],
   "source": [
    "def load_data(path_to_images, path_to_csv, vocabulary, max_length_formula = 128):\n",
    "    images = []\n",
    "    labels = []\n",
    "    lengths = []\n",
    "    trans = transforms.ToTensor()\n",
    "    label_csv = pd.read_csv(path_to_csv)\n",
    "    label_split = [label_csv.iloc[i]['formula'].split() for i in range(len(label_csv))]\n",
    "    print(len(label_split))\n",
    "    x = [True if len(label) <= max_length_formula-2 else False for label in label_split]\n",
    "    label_csv = label_csv.loc[x]\n",
    "    label_split2 = label_split\n",
    "    label_split = []\n",
    "    for label in label_split2:\n",
    "        if len(label) <= max_length_formula-2:\n",
    "            label_split.append(label)\n",
    "    t = time.time()\n",
    "    images = ([(trans(Image.open(os.path.join(path_to_images, fname)).resize((224, 224)))) for fname in label_csv['image']])\n",
    "    print(f\"Images done in :{time.time() -t:.3}s\")\n",
    "    lengths = np.array([len(label)+2 for label in label_split])\n",
    "    labels = np.zeros((len(label_split), max_length_formula))\n",
    "    labels[:,0] = vocabulary['<SOS>']\n",
    "    for i in range(len(label_split)):\n",
    "        labels[i,1:len(label_split[i])+1] = np.array([vocabulary[char] for char in label_split[i]])\n",
    "        labels[i,len(label_split[i])+1] = vocabulary['<EOS>']\n",
    "    return images, labels, vocabulary, lengths"
   ]
  },
  {
   "cell_type": "code",
   "execution_count": 54,
   "id": "b2ae1236",
   "metadata": {},
   "outputs": [],
   "source": [
    "class image_latex_dataset2(torch.utils.data.Dataset):\n",
    "\n",
    "    def __init__(self, images, labels, vocabulary, lengths, max_length_formula = 128):\n",
    "        self.images, self.labels, self.vocabulary, self.lengths = images, labels, vocabulary, lengths\n",
    "        self.inverse_vocabulary = {v:k for k,v in self.vocabulary.items()}\n",
    "\n",
    "    def __len__(self):\n",
    "        return len(self.images)\n",
    "    \n",
    "    def __getitem__(self, idx):\n",
    "        if self.images[idx].shape[0] == 1:\n",
    "            self.images[idx] = torch.cat((self.images[idx], self.images[idx], self.images[idx]), dim=0)\n",
    "        return self.images[idx], self.labels[idx], self.lengths[idx]"
   ]
  },
  {
   "cell_type": "code",
   "execution_count": 22,
   "id": "8becf9b1",
   "metadata": {},
   "outputs": [],
   "source": [
    "vocab_train = make_vocabulary(['col_774_A4_2023/SyntheticData/train.csv','col_774_A4_2023/HandwrittenData/train_hw.csv'])"
   ]
  },
  {
   "cell_type": "code",
   "execution_count": 28,
   "id": "5fa1a59a",
   "metadata": {},
   "outputs": [
    {
     "name": "stdout",
     "output_type": "stream",
     "text": [
      "75000\n",
      "Images done in :8.07e+02s\n",
      "810.2831854820251\n"
     ]
    }
   ],
   "source": [
    "t = time.time()\n",
    "train_data_load = load_data('col_774_A4_2023/SyntheticData/images','col_774_A4_2023/SyntheticData/train.csv',vocab_train)\n",
    "print(time.time() -t)\n",
    "train_data2 = image_latex_dataset2(train_data_load[0],train_data_load[1],train_data_load[2],train_data_load[3])"
   ]
  },
  {
   "cell_type": "code",
   "execution_count": 31,
   "id": "10180718",
   "metadata": {},
   "outputs": [
    {
     "name": "stdout",
     "output_type": "stream",
     "text": [
      "8907\n",
      "Images done in :94.9s\n",
      "95.8395345211029\n"
     ]
    }
   ],
   "source": [
    "t = time.time()\n",
    "vocab_test = make_vocabulary(['col_774_A4_2023/SyntheticData/test.csv'])\n",
    "test_data_load = load_data('col_774_A4_2023/SyntheticData/images','col_774_A4_2023/SyntheticData/test.csv',vocab_test)\n",
    "print(time.time() -t)\n",
    "test_data2 = image_latex_dataset2(test_data_load[0],test_data_load[1],test_data_load[2],test_data_load[3])"
   ]
  },
  {
   "cell_type": "code",
   "execution_count": 33,
   "id": "63445d95",
   "metadata": {},
   "outputs": [
    {
     "name": "stdout",
     "output_type": "stream",
     "text": [
      "10000\n",
      "Images done in :1.18e+02s\n",
      "119.38315391540527\n"
     ]
    }
   ],
   "source": [
    "t = time.time()\n",
    "vocab_val = make_vocabulary(['col_774_A4_2023/SyntheticData/val.csv'])\n",
    "val_data_load = load_data('col_774_A4_2023/SyntheticData/images','col_774_A4_2023/SyntheticData/val.csv',vocab_val)\n",
    "print(time.time() -t)\n",
    "val_data2 = image_latex_dataset2(val_data_load[0],val_data_load[1],val_data_load[2],val_data_load[3])"
   ]
  },
  {
   "cell_type": "code",
   "execution_count": 55,
   "id": "a92d3987",
   "metadata": {},
   "outputs": [],
   "source": [
    "test_loader2 = DataLoader(test_data2, batch_size=128, shuffle=True)\n",
    "train_loader2 = DataLoader(train_data2, batch_size=256, shuffle=True)\n",
    "val_loader2 = DataLoader(val_data2, batch_size=128, shuffle=True)"
   ]
  },
  {
   "cell_type": "code",
   "execution_count": 56,
   "id": "317343a4",
   "metadata": {},
   "outputs": [
    {
     "data": {
      "text/plain": [
       "LatexNet2(\n",
       "  (encoder): Encoder(\n",
       "    (cnn): Sequential(\n",
       "      (0): Conv2d(3, 32, kernel_size=(5, 5), stride=(1, 1))\n",
       "      (1): ReLU()\n",
       "      (2): MaxPool2d(kernel_size=2, stride=2, padding=0, dilation=1, ceil_mode=False)\n",
       "      (3): Conv2d(32, 64, kernel_size=(5, 5), stride=(1, 1))\n",
       "      (4): ReLU()\n",
       "      (5): MaxPool2d(kernel_size=2, stride=2, padding=0, dilation=1, ceil_mode=False)\n",
       "      (6): Conv2d(64, 128, kernel_size=(5, 5), stride=(1, 1))\n",
       "      (7): ReLU()\n",
       "      (8): MaxPool2d(kernel_size=2, stride=2, padding=0, dilation=1, ceil_mode=False)\n",
       "      (9): Conv2d(128, 256, kernel_size=(5, 5), stride=(1, 1))\n",
       "      (10): ReLU()\n",
       "      (11): MaxPool2d(kernel_size=2, stride=2, padding=0, dilation=1, ceil_mode=False)\n",
       "      (12): Conv2d(256, 512, kernel_size=(5, 5), stride=(1, 1))\n",
       "      (13): ReLU()\n",
       "      (14): MaxPool2d(kernel_size=2, stride=2, padding=0, dilation=1, ceil_mode=False)\n",
       "      (15): AvgPool2d(kernel_size=3, stride=3, padding=0)\n",
       "    )\n",
       "    (linear): Linear(in_features=512, out_features=512, bias=True)\n",
       "  )\n",
       "  (decoder): AttnDecoderRNN(\n",
       "    (embedding): Embedding(565, 512)\n",
       "    (lstm): LSTM(1536, 512, batch_first=True)\n",
       "    (out): Linear(in_features=512, out_features=565, bias=True)\n",
       "    (relu): ReLU()\n",
       "    (attention): BahdanauAttention(\n",
       "      (Wa): Linear(in_features=512, out_features=512, bias=True)\n",
       "      (Ua): Linear(in_features=512, out_features=512, bias=True)\n",
       "      (Va): Linear(in_features=512, out_features=1, bias=True)\n",
       "    )\n",
       "  )\n",
       ")"
      ]
     },
     "execution_count": 56,
     "metadata": {},
     "output_type": "execute_result"
    }
   ],
   "source": [
    "model = LatexNet2(512, len(vocab_train), 1, vocab_train)\n",
    "optimizer = Adam(model.parameters(), lr=0.001)\n",
    "criterion = nn.CrossEntropyLoss(ignore_index = 0)\n",
    "model.to(device)\n",
    "model.train()"
   ]
  },
  {
   "cell_type": "code",
   "execution_count": null,
   "id": "a59fc2e4",
   "metadata": {},
   "outputs": [],
   "source": []
  },
  {
   "cell_type": "code",
   "execution_count": 57,
   "id": "d401d9d0",
   "metadata": {},
   "outputs": [
    {
     "name": "stdout",
     "output_type": "stream",
     "text": [
      "Saving models to LatexNetSaved_27_11_2023_21_11_41\n"
     ]
    }
   ],
   "source": [
    "#training loop\n",
    "from datetime import datetime\n",
    "# datetime object containing current date and time\n",
    "now = datetime.now()\n",
    "dt_string = now.strftime(\"%d_%m_%Y_%H_%M_%S\")\n",
    "path = f'LatexNetSaved_{dt_string}'\n",
    "os.mkdir(path)\n",
    "prev_loss = float('inf')\n",
    "stochastic_losses = []\n",
    "best_val_loss = float('inf')\n",
    "epoch_val_loss = []\n",
    "use_adaptive_tf = False\n",
    "print(f\"Saving models to {path}\")\n",
    "teacher_forcing_prob = 0.5"
   ]
  },
  {
   "cell_type": "code",
   "execution_count": 42,
   "id": "c2ec2709",
   "metadata": {},
   "outputs": [
    {
     "data": {
      "text/plain": [
       "torch.Size([256, 565, 128])"
      ]
     },
     "execution_count": 42,
     "metadata": {},
     "output_type": "execute_result"
    }
   ],
   "source": [
    "decoderOutput.permute(0,2,1).shape"
   ]
  },
  {
   "cell_type": "code",
   "execution_count": null,
   "id": "c0662813",
   "metadata": {},
   "outputs": [],
   "source": [
    "teacher_forcing_prob = 0.5"
   ]
  },
  {
   "cell_type": "code",
   "execution_count": 58,
   "id": "4037150b",
   "metadata": {},
   "outputs": [
    {
     "name": "stdout",
     "output_type": "stream",
     "text": [
      "Epoch: 1 Iteration: 0 Loss: 6.33901834487915\n",
      "Epoch: 1 Iteration: 100 Loss: 3.2691147327423096\n",
      "Epoch: 1 Iteration: 200 Loss: 2.9519927501678467\n",
      "Epoch: 1 Loss: 3.2591548526496217 Time :101.0072979927063 | TFP :  0.5\n",
      "Epoch: 2 Iteration: 0 Loss: 2.9300875663757324\n",
      "Epoch: 2 Iteration: 100 Loss: 2.772155284881592\n",
      "Epoch: 2 Iteration: 200 Loss: 2.9415605068206787\n",
      "Epoch: 2 Loss: 2.9073506815391674 Time :100.42513728141785 | TFP :  0.5\n",
      "Epoch: 3 Iteration: 0 Loss: 2.874453544616699\n",
      "Epoch: 3 Iteration: 100 Loss: 2.8593344688415527\n",
      "Epoch: 3 Iteration: 200 Loss: 2.7515532970428467\n",
      "Epoch: 3 Loss: 2.8034287360676546 Time :100.410817861557 | TFP :  0.5\n",
      "Epoch: 4 Iteration: 0 Loss: 2.8204898834228516\n",
      "Epoch: 4 Iteration: 100 Loss: 2.728649854660034\n",
      "Epoch: 4 Iteration: 200 Loss: 2.5858418941497803\n",
      "Epoch: 4 Loss: 2.723907571089895 Time :100.3859794139862 | TFP :  0.5\n",
      "Epoch: 5 Iteration: 0 Loss: 2.708970785140991\n",
      "Epoch: 5 Iteration: 100 Loss: 2.7112107276916504\n",
      "Epoch: 5 Iteration: 200 Loss: 2.572737455368042\n",
      "Epoch: 5 Loss: 2.644850070016426 Time :100.39265513420105 | TFP :  0.5\n",
      "Epoch: 6 Iteration: 0 Loss: 2.6686627864837646\n",
      "Epoch: 6 Iteration: 100 Loss: 2.4934983253479004\n",
      "Epoch: 6 Iteration: 200 Loss: 2.437368392944336\n",
      "Epoch: 6 Loss: 2.5875398276144996 Time :100.79118132591248 | TFP :  0.5\n",
      "Epoch: 7 Iteration: 0 Loss: 2.3404576778411865\n",
      "Epoch: 7 Iteration: 100 Loss: 2.5462234020233154\n",
      "Epoch: 7 Iteration: 200 Loss: 2.4957311153411865\n",
      "Epoch: 7 Loss: 2.5352866114231576 Time :100.63042163848877 | TFP :  0.5\n",
      "Epoch: 8 Iteration: 0 Loss: 2.496318817138672\n",
      "Epoch: 8 Iteration: 100 Loss: 2.3738276958465576\n",
      "Epoch: 8 Iteration: 200 Loss: 2.572031021118164\n",
      "Epoch: 8 Loss: 2.4745027031814844 Time :100.54404425621033 | TFP :  0.5\n",
      "Epoch: 9 Iteration: 0 Loss: 2.3517284393310547\n",
      "Epoch: 9 Iteration: 100 Loss: 2.4751079082489014\n",
      "Epoch: 9 Iteration: 200 Loss: 2.4467413425445557\n",
      "Epoch: 9 Loss: 2.440823441221003 Time :100.87758421897888 | TFP :  0.5\n",
      "Epoch: 10 Iteration: 0 Loss: 2.295778274536133\n",
      "Epoch: 10 Iteration: 100 Loss: 2.245694398880005\n",
      "Epoch: 10 Iteration: 200 Loss: 2.122340202331543\n",
      "Epoch: 10 Loss: 2.4031438041151616 Time :101.13472390174866 | TFP :  0.5\n",
      "Epoch: 11 Iteration: 0 Loss: 2.3108580112457275\n",
      "Epoch: 11 Iteration: 100 Loss: 2.426755428314209\n",
      "Epoch: 11 Iteration: 200 Loss: 2.4069533348083496\n",
      "Epoch: 11 Loss: 2.368949375654522 Time :101.1761863231659 | TFP :  0.5\n",
      "Epoch: 12 Iteration: 0 Loss: 2.300832986831665\n",
      "Epoch: 12 Iteration: 100 Loss: 2.451866865158081\n",
      "Epoch: 12 Iteration: 200 Loss: 2.3140227794647217\n",
      "Epoch: 12 Loss: 2.326525786048488 Time :101.13586163520813 | TFP :  0.5\n",
      "Epoch: 13 Iteration: 0 Loss: 2.200824022293091\n",
      "Epoch: 13 Iteration: 100 Loss: 2.314375877380371\n",
      "Epoch: 13 Iteration: 200 Loss: 2.1359000205993652\n",
      "Epoch: 13 Loss: 2.308201455651668 Time :101.33458876609802 | TFP :  0.5\n",
      "Epoch: 14 Iteration: 0 Loss: 2.2593863010406494\n",
      "Epoch: 14 Iteration: 100 Loss: 2.4887051582336426\n",
      "Epoch: 14 Iteration: 200 Loss: 2.199983596801758\n",
      "Epoch: 14 Loss: 2.2599012483630263 Time :101.18190836906433 | TFP :  0.5\n",
      "Epoch: 15 Iteration: 0 Loss: 2.1747188568115234\n",
      "Epoch: 15 Iteration: 100 Loss: 2.0869264602661133\n",
      "Epoch: 15 Iteration: 200 Loss: 2.1180918216705322\n",
      "Epoch: 15 Loss: 2.240619052083869 Time :101.26496529579163 | TFP :  0.5\n",
      "Epoch: 16 Iteration: 0 Loss: 2.1342873573303223\n",
      "Epoch: 16 Iteration: 100 Loss: 2.12418532371521\n",
      "Epoch: 16 Iteration: 200 Loss: 2.0393123626708984\n",
      "Epoch: 16 Loss: 2.2255906038116993 Time :101.26388764381409 | TFP :  0.5\n",
      "Epoch: 17 Iteration: 0 Loss: 2.224254846572876\n",
      "Epoch: 17 Iteration: 100 Loss: 2.2173233032226562\n",
      "Epoch: 17 Iteration: 200 Loss: 2.213890552520752\n",
      "Epoch: 17 Loss: 2.1971737911826685 Time :101.24188733100891 | TFP :  0.5\n",
      "Epoch: 18 Iteration: 0 Loss: 2.14306378364563\n",
      "Epoch: 18 Iteration: 100 Loss: 2.118462562561035\n",
      "Epoch: 18 Iteration: 200 Loss: 2.358532667160034\n",
      "Epoch: 18 Loss: 2.1666962912208154 Time :101.27151656150818 | TFP :  0.5\n",
      "Epoch: 19 Iteration: 0 Loss: 2.060703754425049\n",
      "Epoch: 19 Iteration: 100 Loss: 2.202521562576294\n",
      "Epoch: 19 Iteration: 200 Loss: 2.3145904541015625\n",
      "Epoch: 19 Loss: 2.140817699516029 Time :101.48824334144592 | TFP :  0.5\n",
      "Epoch: 20 Iteration: 0 Loss: 2.326192617416382\n",
      "Epoch: 20 Iteration: 100 Loss: 2.1643285751342773\n",
      "Epoch: 20 Iteration: 200 Loss: 2.2178380489349365\n",
      "Epoch: 20 Loss: 2.1210884382850246 Time :101.59426856040955 | TFP :  0.5\n",
      "Epoch: 21 Iteration: 0 Loss: 1.9192637205123901\n",
      "Epoch: 21 Iteration: 100 Loss: 1.9992929697036743\n",
      "Epoch: 21 Iteration: 200 Loss: 2.107168674468994\n",
      "Epoch: 21 Loss: 2.1004373684264066 Time :101.54694724082947 | TFP :  0.5\n",
      "Epoch: 22 Iteration: 0 Loss: 2.0055346488952637\n",
      "Epoch: 22 Iteration: 100 Loss: 2.0402212142944336\n",
      "Epoch: 22 Iteration: 200 Loss: 2.2116663455963135\n",
      "Epoch: 22 Loss: 2.0813123301455847 Time :101.43547582626343 | TFP :  0.5\n",
      "Epoch: 23 Iteration: 0 Loss: 2.095318555831909\n",
      "Epoch: 23 Iteration: 100 Loss: 1.9274827241897583\n",
      "Epoch: 23 Iteration: 200 Loss: 2.1742398738861084\n",
      "Epoch: 23 Loss: 2.0634214083353677 Time :101.39466881752014 | TFP :  0.5\n",
      "Epoch: 24 Iteration: 0 Loss: 2.239431619644165\n",
      "Epoch: 24 Iteration: 100 Loss: 2.0555949211120605\n",
      "Epoch: 24 Iteration: 200 Loss: 2.0908424854278564\n",
      "Epoch: 24 Loss: 2.062830988984359 Time :101.45093488693237 | TFP :  0.5\n",
      "Epoch: 25 Iteration: 0 Loss: 1.9368263483047485\n",
      "Epoch: 25 Iteration: 100 Loss: 2.0463197231292725\n",
      "Epoch: 25 Iteration: 200 Loss: 1.9429208040237427\n",
      "Epoch: 25 Loss: 2.035199979731911 Time :101.54053235054016 | TFP :  0.5\n",
      "Epoch: 26 Iteration: 0 Loss: 2.163236379623413\n",
      "Epoch: 26 Iteration: 100 Loss: 1.8230618238449097\n",
      "Epoch: 26 Iteration: 200 Loss: 2.020310163497925\n",
      "Epoch: 26 Loss: 2.018147197522615 Time :102.49039578437805 | TFP :  0.5\n",
      "Epoch: 27 Iteration: 0 Loss: 1.915675163269043\n",
      "Epoch: 27 Iteration: 100 Loss: 1.9810199737548828\n",
      "Epoch: 27 Iteration: 200 Loss: 2.0604140758514404\n",
      "Epoch: 27 Loss: 2.012442016183284 Time :96.99108028411865 | TFP :  0.5\n",
      "Epoch: 28 Iteration: 0 Loss: 2.0880990028381348\n",
      "Epoch: 28 Iteration: 100 Loss: 1.7765828371047974\n",
      "Epoch: 28 Iteration: 200 Loss: 1.9067860841751099\n",
      "Epoch: 28 Loss: 1.9894127707732352 Time :85.4243049621582 | TFP :  0.5\n",
      "Epoch: 29 Iteration: 0 Loss: 1.7660973072052002\n",
      "Epoch: 29 Iteration: 100 Loss: 1.9687434434890747\n",
      "Epoch: 29 Iteration: 200 Loss: 2.1239328384399414\n",
      "Epoch: 29 Loss: 2.001889391531024 Time :85.2617130279541 | TFP :  0.5\n",
      "Epoch: 30 Iteration: 0 Loss: 1.7927831411361694\n",
      "Epoch: 30 Iteration: 100 Loss: 1.8776546716690063\n",
      "Epoch: 30 Iteration: 200 Loss: 1.9383074045181274\n",
      "Epoch: 30 Loss: 1.9650071466178225 Time :85.29045343399048 | TFP :  0.5\n",
      "Epoch: 31 Iteration: 0 Loss: 1.9209684133529663\n",
      "Epoch: 31 Iteration: 100 Loss: 2.0564916133880615\n",
      "Epoch: 31 Iteration: 200 Loss: 1.9116650819778442\n",
      "Epoch: 31 Loss: 1.9620494913636592 Time :85.29822373390198 | TFP :  0.5\n",
      "Epoch: 32 Iteration: 0 Loss: 1.9322055578231812\n",
      "Epoch: 32 Iteration: 100 Loss: 2.152829647064209\n",
      "Epoch: 32 Iteration: 200 Loss: 1.96221125125885\n",
      "Epoch: 32 Loss: 1.957954552299098 Time :85.21974611282349 | TFP :  0.5\n",
      "Epoch: 33 Iteration: 0 Loss: 1.79857337474823\n",
      "Epoch: 33 Iteration: 100 Loss: 2.061938762664795\n",
      "Epoch: 33 Iteration: 200 Loss: 1.8174017667770386\n",
      "Epoch: 33 Loss: 1.9294762339508325 Time :85.12248110771179 | TFP :  0.5\n",
      "Epoch: 34 Iteration: 0 Loss: 1.7111585140228271\n",
      "Epoch: 34 Iteration: 100 Loss: 1.8427841663360596\n",
      "Epoch: 34 Iteration: 200 Loss: 1.9894182682037354\n",
      "Epoch: 34 Loss: 1.9170906317861456 Time :84.72033739089966 | TFP :  0.5\n",
      "Epoch: 35 Iteration: 0 Loss: 1.8040771484375\n",
      "Epoch: 35 Iteration: 100 Loss: 1.94162118434906\n",
      "Epoch: 35 Iteration: 200 Loss: 1.9009195566177368\n",
      "Epoch: 35 Loss: 1.917556295060275 Time :86.09149265289307 | TFP :  0.5\n",
      "Epoch: 36 Iteration: 0 Loss: 1.8118456602096558\n",
      "Epoch: 36 Iteration: 100 Loss: 1.809881329536438\n",
      "Epoch: 36 Iteration: 200 Loss: 1.899750828742981\n",
      "Epoch: 36 Loss: 1.913966841446726 Time :84.99725437164307 | TFP :  0.5\n",
      "Epoch: 37 Iteration: 0 Loss: 1.8635934591293335\n",
      "Epoch: 37 Iteration: 100 Loss: 1.8509751558303833\n",
      "Epoch: 37 Iteration: 200 Loss: 2.0174953937530518\n",
      "Epoch: 37 Loss: 1.9081788347478499 Time :86.6258373260498 | TFP :  0.5\n",
      "Epoch: 38 Iteration: 0 Loss: 2.022434949874878\n",
      "Epoch: 38 Iteration: 100 Loss: 1.7717437744140625\n",
      "Epoch: 38 Iteration: 200 Loss: 1.8337914943695068\n",
      "Epoch: 38 Loss: 1.887632701689737 Time :88.11348748207092 | TFP :  0.5\n",
      "Epoch: 39 Iteration: 0 Loss: 1.935194969177246\n",
      "Epoch: 39 Iteration: 100 Loss: 1.855867624282837\n",
      "Epoch: 39 Iteration: 200 Loss: 1.8346469402313232\n",
      "Epoch: 39 Loss: 1.8782707205989904 Time :84.41736149787903 | TFP :  0.5\n",
      "Epoch: 40 Iteration: 0 Loss: 1.8200621604919434\n",
      "Epoch: 40 Iteration: 100 Loss: 1.8363964557647705\n",
      "Epoch: 40 Iteration: 200 Loss: 2.0254435539245605\n",
      "Epoch: 40 Loss: 1.9155999639578032 Time :84.64580130577087 | TFP :  0.5\n",
      "Epoch: 41 Iteration: 0 Loss: 1.838599443435669\n",
      "Epoch: 41 Iteration: 100 Loss: 1.949278473854065\n",
      "Epoch: 41 Iteration: 200 Loss: 1.8089042901992798\n",
      "Epoch: 41 Loss: 1.8865800594028674 Time :84.52709078788757 | TFP :  0.5\n",
      "Epoch: 42 Iteration: 0 Loss: 2.011456251144409\n",
      "Epoch: 42 Iteration: 100 Loss: 1.7877994775772095\n",
      "Epoch: 42 Iteration: 200 Loss: 1.9732295274734497\n",
      "Epoch: 42 Loss: 1.8615564086980987 Time :90.49938249588013 | TFP :  0.5\n",
      "Epoch: 43 Iteration: 0 Loss: 1.704647421836853\n",
      "Epoch: 43 Iteration: 100 Loss: 1.7780301570892334\n",
      "Epoch: 43 Iteration: 200 Loss: 1.66087007522583\n",
      "Epoch: 43 Loss: 1.840999220128645 Time :86.14640212059021 | TFP :  0.5\n",
      "Epoch: 44 Iteration: 0 Loss: 1.7941477298736572\n",
      "Epoch: 44 Iteration: 100 Loss: 1.8878508806228638\n",
      "Epoch: 44 Iteration: 200 Loss: 2.0163164138793945\n",
      "Epoch: 44 Loss: 1.842592960491515 Time :85.59721875190735 | TFP :  0.5\n",
      "Epoch: 45 Iteration: 0 Loss: 1.7703531980514526\n",
      "Epoch: 45 Iteration: 100 Loss: 1.7560821771621704\n",
      "Epoch: 45 Iteration: 200 Loss: 1.7800137996673584\n",
      "Epoch: 45 Loss: 1.8284517857066371 Time :85.57676219940186 | TFP :  0.5\n",
      "Epoch: 46 Iteration: 0 Loss: 1.733057975769043\n",
      "Epoch: 46 Iteration: 100 Loss: 1.6841305494308472\n",
      "Epoch: 46 Iteration: 200 Loss: 1.7881220579147339\n",
      "Epoch: 46 Loss: 1.835688795123184 Time :85.55360078811646 | TFP :  0.5\n",
      "Epoch: 47 Iteration: 0 Loss: 1.7307695150375366\n",
      "Epoch: 47 Iteration: 100 Loss: 1.6853262186050415\n",
      "Epoch: 47 Iteration: 200 Loss: 1.8117709159851074\n",
      "Epoch: 47 Loss: 1.8156785028022633 Time :85.57941627502441 | TFP :  0.5\n",
      "Epoch: 48 Iteration: 0 Loss: 1.8377412557601929\n",
      "Epoch: 48 Iteration: 100 Loss: 1.9502601623535156\n",
      "Epoch: 48 Iteration: 200 Loss: 1.9780669212341309\n",
      "Epoch: 48 Loss: 1.8091513826136003 Time :85.6758508682251 | TFP :  0.5\n",
      "Epoch: 49 Iteration: 0 Loss: 1.5296059846878052\n",
      "Epoch: 49 Iteration: 100 Loss: 1.6588377952575684\n",
      "Epoch: 49 Iteration: 200 Loss: 1.7631477117538452\n",
      "Epoch: 49 Loss: 1.7899891288656937 Time :85.59762763977051 | TFP :  0.5\n",
      "Epoch: 50 Iteration: 0 Loss: 1.6492807865142822\n",
      "Epoch: 50 Iteration: 100 Loss: 1.8226739168167114\n",
      "Epoch: 50 Iteration: 200 Loss: 1.849640130996704\n",
      "Epoch: 50 Loss: 1.7792229694232606 Time :85.59236097335815 | TFP :  0.5\n"
     ]
    }
   ],
   "source": [
    "for epoch in range(1,51):\n",
    "    model.train()\n",
    "    epoch_train_loss = []\n",
    "    epoch_time = time.time()\n",
    "    for i, (imgs, labls, lenghts) in enumerate(train_loader2):\n",
    "        imgs = imgs.to(device)\n",
    "        labls = labls.long().to(device)\n",
    "        optimizer.zero_grad()\n",
    "        decoderOutput, decoderHidden, encoderOutput = model(imgs, labls, teacher_forcing_prob)\n",
    "        decoderOutput.shape\n",
    "        loss = criterion(decoderOutput.reshape(-1, len(vocab_train)), labls.long().reshape(-1))\n",
    "        loss.backward()\n",
    "        epoch_train_loss.append(loss.item())\n",
    "        stochastic_losses.append(loss.item())\n",
    "        optimizer.step()\n",
    "        if i % 100 == 0:\n",
    "            plt.figure(figsize=(30,18))\n",
    "            plt.plot(stochastic_losses)\n",
    "            plt.xlabel(\"Iteration\")\n",
    "            plt.ylabel(\"Loss\")\n",
    "            plt.legend([\"Training Loss\"])\n",
    "            plt.savefig(\"StochasticLoss.png\")\n",
    "            print(\"Epoch: {} Iteration: {} Loss: {}\".format(epoch, i, loss.item()))\n",
    "            plt.close()\n",
    "    torch.save(model.state_dict, os.path.join(path,f'model_train_{epoch}.pth'))\n",
    "    print(\"Epoch: {} Loss: {} Time :{} | TFP : \".format(epoch, np.mean(epoch_train_loss), time.time() -epoch_time), teacher_forcing_prob)"
   ]
  },
  {
   "cell_type": "code",
   "execution_count": 84,
   "id": "384f905c",
   "metadata": {},
   "outputs": [],
   "source": [
    "import math\n",
    "from nltk import word_tokenize\n",
    "from collections import Counter\n",
    "from nltk.util import ngrams\n",
    "\n",
    "\n",
    "class BLEU(object):\n",
    "    @staticmethod\n",
    "    def compute(candidate, references, weights):\n",
    "        candidate = [c.lower() for c in candidate]\n",
    "        references = [[r.lower() for r in reference] for reference in references]\n",
    "\n",
    "        p_ns = (BLEU.modified_precision(candidate, references, i) for i, _ in enumerate(weights, start=1))\n",
    "        s = math.fsum(w * math.log(p_n) for w, p_n in zip(weights, p_ns) if p_n)\n",
    "\n",
    "        bp = BLEU.brevity_penalty(candidate, references)\n",
    "        return bp * math.exp(s)\n",
    "\n",
    "    @staticmethod\n",
    "    def modified_precision(candidate, references, n):\n",
    "        counts = Counter(ngrams(candidate, n))\n",
    "\n",
    "        if not counts:\n",
    "            return 0\n",
    "\n",
    "        max_counts = {}\n",
    "        for reference in references:\n",
    "            reference_counts = Counter(ngrams(reference, n))\n",
    "            for ngram in counts:\n",
    "                max_counts[ngram] = max(max_counts.get(ngram, 0), reference_counts[ngram])\n",
    "\n",
    "        clipped_counts = dict((ngram, min(count, max_counts[ngram])) for ngram, count in counts.items())\n",
    "\n",
    "        return sum(clipped_counts.values()) / sum(counts.values())\n",
    "    \n",
    "    @staticmethod\n",
    "    def brevity_penalty(candidate, references):\n",
    "        c = len(candidate)\n",
    "        # r = min(abs(len(r) - c) for r in references)\n",
    "        r = min(len(r) for r in references)\n",
    "\n",
    "        if c > r:\n",
    "            return 1\n",
    "        else:\n",
    "            return math.exp(1 - r / c)\n"
   ]
  },
  {
   "cell_type": "code",
   "execution_count": 86,
   "id": "98cc253e",
   "metadata": {},
   "outputs": [],
   "source": [
    "test_vocab_inverse = {v:k for (k,v) in vocab_test.items()}\n",
    "train_vocab_inverse = {v:k for (k,v) in vocab_train.items()}\n",
    "val_vocab_inverse = {v:k for (k,v) in vocab_val.items()}"
   ]
  },
  {
   "cell_type": "code",
   "execution_count": 103,
   "id": "2698682a",
   "metadata": {},
   "outputs": [
    {
     "name": "stdout",
     "output_type": "stream",
     "text": [
      "Macro Bleu :  0.30910763631077726\n"
     ]
    }
   ],
   "source": [
    "model.eval()\n",
    "model.to(device)\n",
    "predict = []\n",
    "true_out = []\n",
    "img_c = []\n",
    "for data in test_loader2:\n",
    "    decoder_outputs = model.forward(data[0].to(device),teacher_forcing_prob =1)[0].argmax(dim = -1)\n",
    "    for sent,true_sent,img in zip(decoder_outputs,data[1],data[0]):\n",
    "        s = []\n",
    "        img_c.append(img)\n",
    "        for i in sent[1:]:\n",
    "            if train_vocab_inverse[i.item()] == \"<EOS>\":\n",
    "                break\n",
    "            s.append(train_vocab_inverse[i.item()])\n",
    "        predict.append(' '.join(s))\n",
    "        s = []\n",
    "        for i in true_sent:\n",
    "            if test_vocab_inverse[i.item()] == \"<EOS>\":\n",
    "                break\n",
    "            s.append(test_vocab_inverse[i.item()])\n",
    "        true_out.append(' '.join(s[1:]))\n",
    "        \n",
    "# TEST\n",
    "scorer = BLEU()\n",
    "overall = 0\n",
    "for gt, pred in zip(true_out, predict):\n",
    "    gt = gt.split()\n",
    "    pred = pred.split()\n",
    "    overall += BLEU.compute(pred,[gt], weights=[1/4, 1/4, 1/4, 1/4])\n",
    "\n",
    "print(\"Macro Bleu : \", overall/len(predict))"
   ]
  },
  {
   "cell_type": "code",
   "execution_count": 88,
   "id": "7cf55ea6",
   "metadata": {},
   "outputs": [
    {
     "name": "stdout",
     "output_type": "stream",
     "text": [
      "Macro Bleu :  0.3059862926997581\n"
     ]
    }
   ],
   "source": [
    "model.eval()\n",
    "model.to(device)\n",
    "predict = []\n",
    "true_out = []\n",
    "img_c = []\n",
    "for data in val_loader2:\n",
    "    decoder_outputs = model.forward(data[0].to(device),teacher_forcing_prob =1)[0].argmax(dim = -1)\n",
    "    for sent,true_sent,img in zip(decoder_outputs,data[1],data[0]):\n",
    "        s = []\n",
    "        img_c.append(img)\n",
    "        for i in sent[1:]:\n",
    "            if train_vocab_inverse[i.item()] == \"<EOS>\":\n",
    "                break\n",
    "            s.append(train_vocab_inverse[i.item()])\n",
    "        predict.append(' '.join(s))\n",
    "        s = []\n",
    "        for i in true_sent:\n",
    "            if val_vocab_inverse[i.item()] == \"<EOS>\":\n",
    "                break\n",
    "            s.append(val_vocab_inverse[i.item()])\n",
    "        true_out.append(' '.join(s[1:]))\n",
    "        \n",
    "# TEST\n",
    "scorer = BLEU()\n",
    "overall = 0\n",
    "for gt, pred in zip(true_out, predict):\n",
    "    gt = gt.split()\n",
    "    pred = pred.split()\n",
    "    overall += BLEU.compute(pred,[gt], weights=[1/4, 1/4, 1/4, 1/4])\n",
    "\n",
    "print(\"Macro Bleu : \", overall/len(predict))"
   ]
  },
  {
   "cell_type": "code",
   "execution_count": 81,
   "id": "63860aa6",
   "metadata": {},
   "outputs": [
    {
     "data": {
      "text/plain": [
       "'$ \\\\partial _ { z } ( Z ^ { - 1 } \\\\partial _ { \\\\bar { z } } \\\\theta ) = 0 $'"
      ]
     },
     "execution_count": 81,
     "metadata": {},
     "output_type": "execute_result"
    }
   ],
   "source": [
    "true_out[10]"
   ]
  },
  {
   "cell_type": "code",
   "execution_count": 90,
   "id": "6be718f2",
   "metadata": {},
   "outputs": [
    {
     "name": "stdout",
     "output_type": "stream",
     "text": [
      "Macro Bleu :  0.35883977512806525\n"
     ]
    }
   ],
   "source": [
    "model.eval()\n",
    "model.to(device)\n",
    "predict = []\n",
    "true_out = []\n",
    "img_c = []\n",
    "for data in train_loader2:\n",
    "    decoder_outputs = model.forward(data[0].to(device),teacher_forcing_prob =1)[0].argmax(dim = -1)\n",
    "    for sent,true_sent,img in zip(decoder_outputs,data[1],data[0]):\n",
    "        s = []\n",
    "        img_c.append(img)\n",
    "        for i in sent[1:]:\n",
    "            if train_vocab_inverse[i.item()] == \"<EOS>\":\n",
    "                break\n",
    "            s.append(train_vocab_inverse[i.item()])\n",
    "        predict.append(' '.join(s))\n",
    "        s = []\n",
    "        for i in true_sent:\n",
    "            if train_vocab_inverse[i.item()] == \"<EOS>\":\n",
    "                break\n",
    "            s.append(train_vocab_inverse[i.item()])\n",
    "        true_out.append(' '.join(s[1:]))\n",
    "        \n",
    "# TEST\n",
    "scorer = BLEU()\n",
    "overall = 0\n",
    "for gt, pred in zip(true_out, predict):\n",
    "    gt = gt.split()\n",
    "    pred = pred.split()\n",
    "    overall += BLEU.compute(pred,[gt], weights=[1/4, 1/4, 1/4, 1/4])\n",
    "\n",
    "print(\"Macro Bleu : \", overall/len(predict))"
   ]
  },
  {
   "cell_type": "code",
   "execution_count": 108,
   "id": "5a815b36",
   "metadata": {},
   "outputs": [
    {
     "name": "stdout",
     "output_type": "stream",
     "text": [
      "$ \\left. A _ { 0 } ( { ) \\right| _ { q = 0 } = 0 } = 0 \\ . $\n",
      "\n",
      "$ \\psi _ { E } ( q ) \\bigr | _ { q = L } \\ = \\ 0 \\ \\ . $\n"
     ]
    },
    {
     "data": {
      "text/plain": [
       "<matplotlib.image.AxesImage at 0x2abe707b5750>"
      ]
     },
     "execution_count": 108,
     "metadata": {},
     "output_type": "execute_result"
    },
    {
     "data": {
      "image/png": "[encoded data removed]",
      "text/plain": [
       "<Figure size 640x480 with 1 Axes>"
      ]
     },
     "metadata": {},
     "output_type": "display_data"
    }
   ],
   "source": [
    "j = 167\n",
    "print(predict[j])\n",
    "print()\n",
    "print(true_out[j])\n",
    "plt.imshow(img_c[j].permute(1,2,0))"
   ]
  },
  {
   "cell_type": "code",
   "execution_count": 109,
   "id": "031b0a7c",
   "metadata": {},
   "outputs": [
    {
     "name": "stdout",
     "output_type": "stream",
     "text": [
      "1000\n",
      "Images done in :21.0s\n",
      "21.262426614761353\n"
     ]
    }
   ],
   "source": [
    "t = time.time()\n",
    "vocab_val_hw  = make_vocabulary(['col_774_A4_2023/HandwrittenData/val_hw.csv'])\n",
    "val_data_load_hw = load_data('col_774_A4_2023/HandwrittenData/images/train','col_774_A4_2023/HandwrittenData/val_hw.csv',vocab_val_hw,128)\n",
    "print(time.time() -t)\n",
    "val_dataHW = image_latex_dataset2(val_data_load_hw[0],val_data_load_hw[1],val_data_load_hw[2],val_data_load_hw[3])"
   ]
  },
  {
   "cell_type": "code",
   "execution_count": 111,
   "id": "f25f890e",
   "metadata": {},
   "outputs": [],
   "source": [
    "vocab_val_hw_inv = {v:k for (k,v) in vocab_val_hw.items()}"
   ]
  },
  {
   "cell_type": "code",
   "execution_count": 121,
   "id": "71454de9",
   "metadata": {},
   "outputs": [],
   "source": [
    "val_hw_loader = DataLoader(val_dataHW, batch_size=128, shuffle=True)\n",
    "model.eval()\n",
    "model.to(device)\n",
    "predict = []\n",
    "true_out = []\n",
    "img_c = []\n",
    "for data in val_hw_loader:\n",
    "    decoder_outputs = model.forward(data[0].to(device),teacher_forcing_prob =1)[0].argmax(dim = -1)\n",
    "    for sent,true_sent,img in zip(decoder_outputs,data[1],data[0]):\n",
    "        s = []\n",
    "        img_c.append(img)\n",
    "        for i in sent[1:]:\n",
    "            if train_vocab_inverse[i.item()] == \"<EOS>\":\n",
    "                break\n",
    "            s.append(train_vocab_inverse[i.item()])\n",
    "        predict.append(' '.join(s))\n",
    "        s = []\n",
    "        for i in true_sent:\n",
    "            if vocab_val_hw_inv[i.item()] == \"<EOS>\":\n",
    "                break\n",
    "            s.append(vocab_val_hw_inv[i.item()])\n",
    "        true_out.append(' '.join(s[1:]))"
   ]
  },
  {
   "cell_type": "code",
   "execution_count": 122,
   "id": "246dccd5",
   "metadata": {},
   "outputs": [
    {
     "name": "stdout",
     "output_type": "stream",
     "text": [
      "Macro Bleu :  0.3057386526019732\n"
     ]
    }
   ],
   "source": [
    "#VALIDATION\n",
    "scorer = BLEU()\n",
    "overall = 0\n",
    "for gt, pred in zip(true_out, predict):\n",
    "    gt = gt.split()\n",
    "    pred = pred.split()\n",
    "    overall += BLEU.compute(pred,[gt], weights=[1/4, 1/4, 1/4, 1/4])\n",
    "\n",
    "print(\"Macro Bleu : \", overall/len(predict))"
   ]
  },
  {
   "cell_type": "code",
   "execution_count": 126,
   "id": "f5f6f520",
   "metadata": {},
   "outputs": [
    {
     "name": "stdout",
     "output_type": "stream",
     "text": [
      "9000\n",
      "Images done in :1.57e+02s\n",
      "157.1575002670288\n"
     ]
    }
   ],
   "source": [
    "t = time.time()\n",
    "train_data_loadHw = load_data('col_774_A4_2023/HandwrittenData/images/train','col_774_A4_2023/HandwrittenData/train_hw.csv',vocab_train)\n",
    "print(time.time() -t)\n",
    "train_dataHw = image_latex_dataset2(train_data_load[0],train_data_load[1],train_data_load[2],train_data_load[3])"
   ]
  },
  {
   "cell_type": "code",
   "execution_count": 139,
   "id": "fd3b52a3",
   "metadata": {},
   "outputs": [
    {
     "data": {
      "text/plain": [
       "<All keys matched successfully>"
      ]
     },
     "execution_count": 139,
     "metadata": {},
     "output_type": "execute_result"
    }
   ],
   "source": [
    "LatX_HW = LatexNet2(512, len(vocab_train), 1, vocab_train)\n",
    "optimizer_hw = Adam(LatX_HW.parameters(), lr=0.001)\n",
    "criterion_hw = nn.CrossEntropyLoss(ignore_index = 0)\n",
    "LatX_HW.to(device)\n",
    "LatX_HW.train()\n",
    "\n",
    "LatX_HW.load_state_dict(torch.load(f'LatexNetSaved_27_11_2023_21_11_41/model_train_{50}.pth')())"
   ]
  },
  {
   "cell_type": "code",
   "execution_count": 140,
   "id": "f33c9529",
   "metadata": {},
   "outputs": [
    {
     "name": "stdout",
     "output_type": "stream",
     "text": [
      "Macro Bleu :  0.30598629269975763\n"
     ]
    }
   ],
   "source": [
    "LatX_HW.eval()\n",
    "LatX_HW.to(device)\n",
    "predict = []\n",
    "true_out = []\n",
    "img_c = []\n",
    "for data in val_loader2:\n",
    "    decoder_outputs = LatX_HW.forward(data[0].to(device),teacher_forcing_prob =1)[0].argmax(dim = -1)\n",
    "    for sent,true_sent,img in zip(decoder_outputs,data[1],data[0]):\n",
    "        s = []\n",
    "        img_c.append(img)\n",
    "        for i in sent[1:]:\n",
    "            if train_vocab_inverse[i.item()] == \"<EOS>\":\n",
    "                break\n",
    "            s.append(train_vocab_inverse[i.item()])\n",
    "        predict.append(' '.join(s))\n",
    "        s = []\n",
    "        for i in true_sent:\n",
    "            if val_vocab_inverse[i.item()] == \"<EOS>\":\n",
    "                break\n",
    "            s.append(val_vocab_inverse[i.item()])\n",
    "        true_out.append(' '.join(s[1:]))\n",
    "        \n",
    "# TEST\n",
    "scorer = BLEU()\n",
    "overall = 0\n",
    "for gt, pred in zip(true_out, predict):\n",
    "    gt = gt.split()\n",
    "    pred = pred.split()\n",
    "    overall += BLEU.compute(pred,[gt], weights=[1/4, 1/4, 1/4, 1/4])\n",
    "\n",
    "print(\"Macro Bleu : \", overall/len(predict))"
   ]
  },
  {
   "cell_type": "code",
   "execution_count": 141,
   "id": "0520b02d",
   "metadata": {},
   "outputs": [],
   "source": [
    "def load_data_subHW(path_to_images, path_to_csv):\n",
    "    images = []\n",
    "    index = []\n",
    "    trans = transforms.ToTensor()\n",
    "    label_csv = pd.read_csv(path_to_csv)\n",
    "    images = ([(trans(Image.open(os.path.join(path_to_images, fname)).resize((224, 224)))) for fname in label_csv['image']])\n",
    "    for i in range(len(images)):\n",
    "        if images[i].shape[0] == 1:\n",
    "            images[i] = torch.cat([images[i], images[i], images[i]], dim = 0)\n",
    "    return images"
   ]
  },
  {
   "cell_type": "code",
   "execution_count": 142,
   "id": "45acad77",
   "metadata": {},
   "outputs": [
    {
     "name": "stdout",
     "output_type": "stream",
     "text": [
      "74.69114279747009\n"
     ]
    }
   ],
   "source": [
    "t = time.time()\n",
    "sub_dataHW = load_data_subHW('col_774_A4_2023/HandwrittenData/images/test','sample_sub.csv')\n",
    "print(time.time() -t)"
   ]
  },
  {
   "cell_type": "code",
   "execution_count": 146,
   "id": "a27ea361",
   "metadata": {},
   "outputs": [],
   "source": [
    "testHW_Loader = DataLoader(sub_dataHW, batch_size=128, shuffle=False)"
   ]
  },
  {
   "cell_type": "code",
   "execution_count": 151,
   "id": "ca9a983b",
   "metadata": {},
   "outputs": [
    {
     "name": "stdout",
     "output_type": "stream",
     "text": [
      "torch.Size([128, 3, 224, 224])\n"
     ]
    }
   ],
   "source": [
    "for i in testHW_Loader:\n",
    "    print(i.shape)\n",
    "    break"
   ]
  },
  {
   "cell_type": "code",
   "execution_count": 219,
   "id": "1978a2d5",
   "metadata": {},
   "outputs": [
    {
     "data": {
      "text/plain": [
       "<All keys matched successfully>"
      ]
     },
     "execution_count": 219,
     "metadata": {},
     "output_type": "execute_result"
    }
   ],
   "source": [
    "LatxNetFine.load_state_dict(torch.load('LatexNetFine_28_11_2023_00_13_23/model_train_fine_20.pth')())"
   ]
  },
  {
   "cell_type": "code",
   "execution_count": 220,
   "id": "bb98a87e",
   "metadata": {},
   "outputs": [],
   "source": [
    "LatxNetFine.eval()\n",
    "LatxNetFine.to(device)\n",
    "LatxNetFine.max_seg_length = 1000\n",
    "predict = []\n",
    "true_out = []\n",
    "img_c = []\n",
    "for data in testHW_Loader:\n",
    "    decoder_outputs = LatxNetFine.forward(data.to(device),teacher_forcing_prob =1)[0].argmax(dim = -1)\n",
    "    for i,sent in enumerate(decoder_outputs):\n",
    "        s = []\n",
    "        img_c.append(data[i])\n",
    "        for i in sent[1:]:\n",
    "            if train_vocab_inverse[i.item()] == \"<EOS>\":\n",
    "                break\n",
    "            s.append(train_vocab_inverse[i.item()])\n",
    "        predict.append(' '.join(s))"
   ]
  },
  {
   "cell_type": "code",
   "execution_count": 223,
   "id": "26cbadeb",
   "metadata": {},
   "outputs": [
    {
     "name": "stdout",
     "output_type": "stream",
     "text": [
      "$ - \\frac { 7 } { 3 } $\n"
     ]
    },
    {
     "data": {
      "text/plain": [
       "<matplotlib.image.AxesImage at 0x2ad48e79d750>"
      ]
     },
     "execution_count": 223,
     "metadata": {},
     "output_type": "execute_result"
    },
    {
     "data": {
      "image/png": "[encoded data removed]",
      "text/plain": [
       "<Figure size 640x480 with 1 Axes>"
      ]
     },
     "metadata": {},
     "output_type": "display_data"
    }
   ],
   "source": [
    "j = 190\n",
    "print(predict[j])\n",
    "plt.imshow(img_c[j].permute(1,2,0))"
   ]
  },
  {
   "cell_type": "code",
   "execution_count": 195,
   "id": "5f59390f",
   "metadata": {},
   "outputs": [],
   "source": [
    "csv = pd.read_csv('sample_sub.csv')"
   ]
  },
  {
   "cell_type": "code",
   "execution_count": 196,
   "id": "1658e47d",
   "metadata": {},
   "outputs": [],
   "source": [
    "csv = pd.read_csv('sample_sub.csv')\n",
    "new_dict = {'image':[], 'formula':[]}\n",
    "for i in range(len(predict)):\n",
    "    new_dict['image'].append(csv['image'][i])\n",
    "    new_dict['formula'].append(predict[i])"
   ]
  },
  {
   "cell_type": "code",
   "execution_count": 198,
   "id": "217d0e32",
   "metadata": {},
   "outputs": [],
   "source": [
    "csv = pd.read_csv('sample_sub.csv')\n",
    "new_dict = {'image':[], 'formula':[]}\n",
    "for i in range(len(predict)):\n",
    "    new_dict['image'].append(csv['image'][i])\n",
    "    new_dict['formula'].append(predict[i])\n",
    "new_pd = pd.DataFrame(new_dict)\n",
    "new_pd.to_csv('preds/sample_sub4.csv', index = False)"
   ]
  },
  {
   "cell_type": "code",
   "execution_count": 176,
   "id": "8e8e7de2",
   "metadata": {},
   "outputs": [
    {
     "name": "stdout",
     "output_type": "stream",
     "text": [
      "9000\n",
      "Images done in :77.2s\n",
      "77.62962913513184\n"
     ]
    }
   ],
   "source": [
    "t = time.time()\n",
    "train_data_loadHw = load_data('col_774_A4_2023/HandwrittenData/images/train','col_774_A4_2023/HandwrittenData/train_hw.csv',vocab_train)\n",
    "print(time.time() -t)\n",
    "train_dataHw = image_latex_dataset2(train_data_loadHw[0],train_data_loadHw[1],train_data_loadHw[2],train_data_loadHw[3])"
   ]
  },
  {
   "cell_type": "code",
   "execution_count": 178,
   "id": "78287a9e",
   "metadata": {},
   "outputs": [],
   "source": [
    "train_loader_hw = DataLoader(train_dataHw, batch_size = 256, shuffle = True)"
   ]
  },
  {
   "cell_type": "code",
   "execution_count": 179,
   "id": "a08268fb",
   "metadata": {},
   "outputs": [
    {
     "data": {
      "text/plain": [
       "<All keys matched successfully>"
      ]
     },
     "execution_count": 179,
     "metadata": {},
     "output_type": "execute_result"
    }
   ],
   "source": [
    "LatxNetFine = LatexNet2(512, len(vocab_train), 1, vocab_train)\n",
    "LatxNetFine.load_state_dict(torch.load(f'LatexNetSaved_27_11_2023_21_11_41/model_train_{50}.pth')())\n",
    "optimizer_hw = Adam(LatxNetFine.parameters(), lr=0.001)\n",
    "criterion_hw = nn.CrossEntropyLoss(ignore_index = 0)\n",
    "LatxNetFine.to(device)\n",
    "LatxNetFine.train()\n",
    "LatxNetFine.load_state_dict(torch.load(f'LatexNetSaved_27_11_2023_21_11_41/model_train_{50}.pth')())"
   ]
  },
  {
   "cell_type": "code",
   "execution_count": 180,
   "id": "5c5f77ab",
   "metadata": {},
   "outputs": [
    {
     "name": "stdout",
     "output_type": "stream",
     "text": [
      "Saving models to LatexNetFine_28_11_2023_00_13_23\n"
     ]
    }
   ],
   "source": [
    "#training loop\n",
    "from datetime import datetime\n",
    "# datetime object containing current date and time\n",
    "now = datetime.now()\n",
    "dt_string = now.strftime(\"%d_%m_%Y_%H_%M_%S\")\n",
    "path_hw = f'LatexNetFine_{dt_string}'\n",
    "os.mkdir(path_hw)\n",
    "prev_loss = float('inf')\n",
    "stochastic_losses = []\n",
    "best_val_loss = float('inf')\n",
    "epoch_val_loss = []\n",
    "use_adaptive_tf = False\n",
    "print(f\"Saving models to {path_hw}\")\n",
    "teacher_forcing_prob = 0.5"
   ]
  },
  {
   "cell_type": "code",
   "execution_count": 199,
   "id": "82f8b17d",
   "metadata": {},
   "outputs": [
    {
     "name": "stdout",
     "output_type": "stream",
     "text": [
      "Epoch: 51 Iteration: 0 Loss: 0.06654726713895798\n",
      "Epoch: 51 Loss: 0.08666430123978192 Time :17.642337799072266 | TFP :  0.5\n",
      "Epoch: 52 Iteration: 0 Loss: 0.07914729416370392\n",
      "Epoch: 52 Loss: 0.0775065700420075 Time :11.172361612319946 | TFP :  0.5\n",
      "Epoch: 53 Iteration: 0 Loss: 0.0749819278717041\n",
      "Epoch: 53 Loss: 0.07629373245355156 Time :11.18888545036316 | TFP :  0.5\n",
      "Epoch: 54 Iteration: 0 Loss: 0.07587683200836182\n",
      "Epoch: 54 Loss: 0.07170986580765909 Time :11.176464080810547 | TFP :  0.5\n",
      "Epoch: 55 Iteration: 0 Loss: 0.07073302567005157\n",
      "Epoch: 55 Loss: 0.07777529820385906 Time :11.162496566772461 | TFP :  0.5\n",
      "Epoch: 56 Iteration: 0 Loss: 0.07095178216695786\n",
      "Epoch: 56 Loss: 0.06263520754873753 Time :11.174270153045654 | TFP :  0.5\n",
      "Epoch: 57 Iteration: 0 Loss: 0.047268860042095184\n",
      "Epoch: 57 Loss: 0.057971472593231335 Time :11.173411846160889 | TFP :  0.5\n",
      "Epoch: 58 Iteration: 0 Loss: 0.043525755405426025\n",
      "Epoch: 58 Loss: 0.04866823279816243 Time :11.263727903366089 | TFP :  0.5\n",
      "Epoch: 59 Iteration: 0 Loss: 0.04373982176184654\n",
      "Epoch: 59 Loss: 0.053186083005534276 Time :11.337197303771973 | TFP :  0.5\n",
      "Epoch: 60 Iteration: 0 Loss: 0.05151468887925148\n",
      "Epoch: 60 Loss: 0.04996701919784149 Time :11.352412939071655 | TFP :  0.5\n",
      "Epoch: 61 Iteration: 0 Loss: 0.048565492033958435\n",
      "Epoch: 61 Loss: 0.04362017293978068 Time :11.344677209854126 | TFP :  0.5\n",
      "Epoch: 62 Iteration: 0 Loss: 0.027192171663045883\n",
      "Epoch: 62 Loss: 0.04265017052077585 Time :11.323031663894653 | TFP :  0.5\n",
      "Epoch: 63 Iteration: 0 Loss: 0.04410393908619881\n",
      "Epoch: 63 Loss: 0.05197566131957703 Time :11.332121849060059 | TFP :  0.5\n",
      "Epoch: 64 Iteration: 0 Loss: 0.06079666689038277\n",
      "Epoch: 64 Loss: 0.04630518166555299 Time :11.336772680282593 | TFP :  0.5\n",
      "Epoch: 65 Iteration: 0 Loss: 0.035690538585186005\n",
      "Epoch: 65 Loss: 0.03811772664388021 Time :11.339321851730347 | TFP :  0.5\n",
      "Epoch: 66 Iteration: 0 Loss: 0.062297530472278595\n",
      "Epoch: 66 Loss: 0.03286466928612855 Time :11.335588932037354 | TFP :  0.5\n",
      "Epoch: 67 Iteration: 0 Loss: 0.025248242542147636\n",
      "Epoch: 67 Loss: 0.032639791464640036 Time :11.333873987197876 | TFP :  0.5\n",
      "Epoch: 68 Iteration: 0 Loss: 0.024967236444354057\n",
      "Epoch: 68 Loss: 0.031682552925000586 Time :11.337282180786133 | TFP :  0.5\n",
      "Epoch: 69 Iteration: 0 Loss: 0.027962593361735344\n",
      "Epoch: 69 Loss: 0.026521491223118372 Time :11.34236454963684 | TFP :  0.5\n",
      "Epoch: 70 Iteration: 0 Loss: 0.015463469550013542\n",
      "Epoch: 70 Loss: 0.02331599137849278 Time :11.331604719161987 | TFP :  0.5\n"
     ]
    }
   ],
   "source": [
    "for epoch in range(51,71):\n",
    "    LatxNetFine.train()\n",
    "    epoch_train_loss = []\n",
    "    epoch_time = time.time()\n",
    "    for i, (imgs, labls, lenghts) in enumerate(train_loader_hw):\n",
    "        imgs = imgs.to(device)\n",
    "        labls = labls.long().to(device)\n",
    "        optimizer_hw.zero_grad()\n",
    "        decoderOutput, decoderHidden, encoderOutput = LatxNetFine(imgs, labls, teacher_forcing_prob)\n",
    "        decoderOutput.shape\n",
    "        loss = criterion_hw(decoderOutput.reshape(-1, len(vocab_train)), labls.long().reshape(-1))\n",
    "        loss.backward()\n",
    "        epoch_train_loss.append(loss.item())\n",
    "        stochastic_losses.append(loss.item())\n",
    "        optimizer_hw.step()\n",
    "        if i % 100 == 0:\n",
    "            plt.figure(figsize=(30,18))\n",
    "            plt.plot(stochastic_losses)\n",
    "            plt.xlabel(\"Iteration\")\n",
    "            plt.ylabel(\"Loss\")\n",
    "            plt.legend([\"Training Loss\"])\n",
    "            plt.savefig(\"StochasticLoss_hw.png\")\n",
    "            print(\"Epoch: {} Iteration: {} Loss: {}\".format(epoch, i, loss.item()))\n",
    "            plt.close()\n",
    "    torch.save(LatxNetFine.state_dict, os.path.join(path_hw,f'model_train_fine_{epoch}.pth'))\n",
    "    print(\"Epoch: {} Loss: {} Time :{} | TFP : \".format(epoch, np.mean(epoch_train_loss), time.time() -epoch_time), teacher_forcing_prob)"
   ]
  },
  {
   "cell_type": "code",
   "execution_count": 175,
   "id": "c3e50e4e",
   "metadata": {},
   "outputs": [
    {
     "data": {
      "text/plain": [
       "285"
      ]
     },
     "execution_count": 175,
     "metadata": {},
     "output_type": "execute_result"
    }
   ],
   "source": [
    "train_loader_hw.__len__()"
   ]
  },
  {
   "cell_type": "code",
   "execution_count": 177,
   "id": "f4a8fce8",
   "metadata": {},
   "outputs": [
    {
     "ename": "NameError",
     "evalue": "name 'vocab' is not defined",
     "output_type": "error",
     "traceback": [
      "\u001b[0;31m---------------------------------------------------------------------------\u001b[0m",
      "\u001b[0;31mNameError\u001b[0m                                 Traceback (most recent call last)",
      "Cell \u001b[0;32mIn[177], line 2\u001b[0m\n\u001b[1;32m      1\u001b[0m t \u001b[38;5;241m=\u001b[39m time\u001b[38;5;241m.\u001b[39mtime()\n\u001b[0;32m----> 2\u001b[0m val_data_loadHw \u001b[38;5;241m=\u001b[39m load_data(\u001b[38;5;124m'\u001b[39m\u001b[38;5;124mcol_774_A4_2023/HandwrittenData/images/train\u001b[39m\u001b[38;5;124m'\u001b[39m,\u001b[38;5;124m'\u001b[39m\u001b[38;5;124mcol_774_A4_2023/HandwrittenData/val_hw.csv\u001b[39m\u001b[38;5;124m'\u001b[39m,vocab)\n\u001b[1;32m      3\u001b[0m \u001b[38;5;28mprint\u001b[39m(time\u001b[38;5;241m.\u001b[39mtime() \u001b[38;5;241m-\u001b[39mt)\n\u001b[1;32m      4\u001b[0m val_dataHw \u001b[38;5;241m=\u001b[39m image_latex_dataset2(val_data_load[\u001b[38;5;241m0\u001b[39m],val_data_load[\u001b[38;5;241m1\u001b[39m],val_data_load[\u001b[38;5;241m2\u001b[39m],val_data_load[\u001b[38;5;241m3\u001b[39m])\n",
      "\u001b[0;31mNameError\u001b[0m: name 'vocab' is not defined"
     ]
    }
   ],
   "source": [
    "t = time.time()\n",
    "\n",
    "val_data_loadHw = load_data('col_774_A4_2023/HandwrittenData/images/train','col_774_A4_2023/HandwrittenData/val_hw.csv',vocab)\n",
    "print(time.time() -t)\n",
    "val_dataHw = image_latex_dataset2(val_data_load[0],val_data_load[1],val_data_load[2],val_data_load[3])"
   ]
  },
  {
   "cell_type": "code",
   "execution_count": 224,
   "id": "8858a237",
   "metadata": {},
   "outputs": [
    {
     "name": "stdout",
     "output_type": "stream",
     "text": [
      "k\n"
     ]
    }
   ],
   "source": [
    "while(input()):\n",
    "    break"
   ]
  }
 ],
 "metadata": {
  "kernelspec": {
   "display_name": "Python 3 (ipykernel)",
   "language": "python",
   "name": "python3"
  },
  "language_info": {
   "codemirror_mode": {
    "name": "ipython",
    "version": 3
   },
   "file_extension": ".py",
   "mimetype": "text/x-python",
   "name": "python",
   "nbconvert_exporter": "python",
   "pygments_lexer": "ipython3",
   "version": "3.11.5"
  }
 },
 "nbformat": 4,
 "nbformat_minor": 5
}
